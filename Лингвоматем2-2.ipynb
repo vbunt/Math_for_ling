{
 "cells": [
  {
   "cell_type": "markdown",
   "metadata": {},
   "source": [
    "Дан граф. К каждой дуге графа привязаны некоторые ресурсы, которые надо потратить на прохождение данной дуги. Каждый ресурс имеет название и приписанное ему количество. Необходимо написать программу, которая находит путь из одной вершины в другую с учетом имеющихся ресурсов. Вершины задаются пользователем."
   ]
  },
  {
   "cell_type": "code",
   "execution_count": 16,
   "metadata": {},
   "outputs": [],
   "source": [
    "# Будем хранить граф как список вершин и список дуг для данной вершины. \n",
    "# Считаем, что граф ненаправленный.\n",
    "\n",
    "V = [0, 1, 2, 3, 4, 5, 6]\n",
    "E = [{1:{'a':1, 'b':1}, 2:{'a':1, 'b':1}, 6:{'a':1, 'b':1}}, \n",
    "     {3:{'a':1, 'b':1}, 5:{'a':1, 'b':1}}, \n",
    "     {0:{'a':1, 'b':1}, 3:{'a':2, 'b':1}}, \n",
    "     {1:{'a':1, 'b':1}, 2:{'a':1, 'b':1}, 4:{'a':1, 'b':1}, 5:{'a':1, 'b':1}}, \n",
    "     {3:{'a':2, 'b':1}}, \n",
    "     {3:{'a':1, 'b':1}, 1:{'a':1, 'b':1}},\n",
    "     {0:{'a':5, 'b':4}}]\n"
   ]
  },
  {
   "cell_type": "code",
   "execution_count": 17,
   "metadata": {},
   "outputs": [],
   "source": [
    "def can_i_go_there(d_resourses, edges, cur_node, n):\n",
    "\n",
    "    for resourse in d_resourses.keys():\n",
    "        \n",
    "        if d_resourses[resourse] - edges[cur_node][n][resourse] >= 0:\n",
    "            d_resourses[resourse] = d_resourses[resourse] - edges[cur_node][n][resourse]\n",
    "        else:\n",
    "            return False, d_resourses\n",
    "    \n",
    "    return True, d_resourses"
   ]
  },
  {
   "cell_type": "code",
   "execution_count": 18,
   "metadata": {},
   "outputs": [],
   "source": [
    "def findPath(verticies, edges, visits, cur_node, where, d_resourses):  # обход в глубину\n",
    "    \n",
    "\n",
    "    if where == cur_node:\n",
    "        return [verticies[cur_node]]\n",
    "    \n",
    "    visits[cur_node] = True\n",
    "    \n",
    "    l1 = None\n",
    "\n",
    "    for n in edges[cur_node].keys():\n",
    "\n",
    "        if visits[n]:\n",
    "            continue\n",
    "            \n",
    "        d_resourses_prev = d_resourses.copy()  # сохраняем нынешнее значение ресурсов, чтобы можно было к нему вернуться\n",
    "        can_i, d_resourses = can_i_go_there(d_resourses,  edges, cur_node, n)  # можно ли туда пойти?\n",
    "    \n",
    "        if can_i:  # если можно\n",
    "            l = findPath(verticies, edges, visits, n, where, d_resourses)  # спускаемся ниже\n",
    "            \n",
    "            if l != None:  # если нашли путь\n",
    "                l1 = [verticies[cur_node]]\n",
    "                l1.extend(l)\n",
    "            else:  # если путь не нашелся, возвращаем ресурсы к значению до спуска\n",
    "                d_resourses = d_resourses_prev\n",
    "    return l1"
   ]
  },
  {
   "cell_type": "code",
   "execution_count": 19,
   "metadata": {},
   "outputs": [
    {
     "name": "stdout",
     "output_type": "stream",
     "text": [
      "[6, 0, 2]\n"
     ]
    }
   ],
   "source": [
    "visited = [False] * len(V)\n",
    "print(findPath(V, E, visited, 6, 2, {'a':6, 'b':6}))"
   ]
  },
  {
   "cell_type": "code",
   "execution_count": 20,
   "metadata": {},
   "outputs": [
    {
     "name": "stdout",
     "output_type": "stream",
     "text": [
      "None\n"
     ]
    }
   ],
   "source": [
    "visited = [False] * len(V)\n",
    "print(findPath(V, E, visited, 6, 2, {'a':5, 'b':6}))"
   ]
  },
  {
   "cell_type": "code",
   "execution_count": 22,
   "metadata": {},
   "outputs": [
    {
     "name": "stdout",
     "output_type": "stream",
     "text": [
      "[6, 0, 1, 3]\n"
     ]
    }
   ],
   "source": [
    "visited = [False] * len(V)\n",
    "print(findPath(V, E, visited, 6, 3, {'a':7, 'b':6}))"
   ]
  },
  {
   "cell_type": "code",
   "execution_count": 23,
   "metadata": {},
   "outputs": [
    {
     "name": "stdout",
     "output_type": "stream",
     "text": [
      "[1, 3]\n"
     ]
    }
   ],
   "source": [
    "visited = [False] * len(V)\n",
    "print(findPath(V, E, visited, 1, 3, {'a':1, 'b':1}))"
   ]
  },
  {
   "cell_type": "code",
   "execution_count": 24,
   "metadata": {},
   "outputs": [
    {
     "name": "stdout",
     "output_type": "stream",
     "text": [
      "[0, 1, 3, 4]\n"
     ]
    }
   ],
   "source": [
    "visited = [False] * len(V)\n",
    "print(findPath(V, E, visited, 0, 4, {'a':3, 'b':4}))"
   ]
  },
  {
   "cell_type": "code",
   "execution_count": 25,
   "metadata": {},
   "outputs": [
    {
     "name": "stdout",
     "output_type": "stream",
     "text": [
      "[0, 2, 3, 5, 1]\n"
     ]
    }
   ],
   "source": [
    "visited = [False] * len(V)\n",
    "print(findPath(V, E, visited, 0, 1, {'a':20, 'b':20}))"
   ]
  },
  {
   "cell_type": "code",
   "execution_count": 27,
   "metadata": {},
   "outputs": [
    {
     "name": "stdout",
     "output_type": "stream",
     "text": [
      "[0, 1]\n"
     ]
    }
   ],
   "source": [
    "visited = [False] * len(V)\n",
    "print(findPath(V, E, visited, 0, 1, {'a':1, 'b':1}))"
   ]
  },
  {
   "cell_type": "code",
   "execution_count": null,
   "metadata": {},
   "outputs": [],
   "source": []
  }
 ],
 "metadata": {
  "kernelspec": {
   "display_name": "Python 3",
   "language": "python",
   "name": "python3"
  },
  "language_info": {
   "codemirror_mode": {
    "name": "ipython",
    "version": 3
   },
   "file_extension": ".py",
   "mimetype": "text/x-python",
   "name": "python",
   "nbconvert_exporter": "python",
   "pygments_lexer": "ipython3",
   "version": "3.7.3"
  }
 },
 "nbformat": 4,
 "nbformat_minor": 2
}
