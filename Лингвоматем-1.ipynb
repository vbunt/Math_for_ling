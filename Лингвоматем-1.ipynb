{
 "cells": [
  {
   "cell_type": "markdown",
   "metadata": {},
   "source": [
    "## Создать хранилище для произвольных многомерных категориальных данных. Для каждого измерения хранится набор его возможных значений, являющийся индексом."
   ]
  },
  {
   "cell_type": "markdown",
   "metadata": {},
   "source": [
    "### заранее задать список возможных категорий -> сделать словарь\n",
    "\n",
    "### для каждой категории дефолтно значение -1, вводится конкретное значение, хранится индекс\n",
    "\n",
    "storage : {id1 : {}, id2 : {}}\n",
    "\n",
    "storage_line : {id: {name: name, cat1: n1, cat2: n2, cat3: n3}}\n",
    "\n",
    "categories_dict : {cat1: [smth1, smth2...], cat2: [smth1, smth2...]}\n",
    "\n",
    "categories_list : [cat1, cat2,...]\n",
    "\n",
    "input : {name : name, cat1 : smth, cat3 : smth}"
   ]
  },
  {
   "cell_type": "code",
   "execution_count": 68,
   "metadata": {},
   "outputs": [],
   "source": [
    "from collections import defaultdict"
   ]
  },
  {
   "cell_type": "code",
   "execution_count": 69,
   "metadata": {},
   "outputs": [],
   "source": [
    "def make_categories_dict(categories_list):\n",
    "    return {key: [] for key in categories_list}"
   ]
  },
  {
   "cell_type": "code",
   "execution_count": 70,
   "metadata": {},
   "outputs": [],
   "source": [
    "def add_new_item(storage, new_item:dict, categories):\n",
    "\n",
    "    ind = len(list(storage.keys()))\n",
    "    storage_line = {key: -1 for key in categories_list}\n",
    "    for key, value in new_item.items():\n",
    "        \n",
    "        if not value in categories[key]:\n",
    "            \n",
    "            categories[key].append(value)\n",
    "        \n",
    "        storage_line[key] = categories[key].index(value)\n",
    "\n",
    "    storage[ind] = storage_line\n",
    "#     return storage"
   ]
  },
  {
   "cell_type": "code",
   "execution_count": 71,
   "metadata": {},
   "outputs": [],
   "source": [
    "def make_dict_from_line(line):\n",
    "    line = line.split()\n",
    "    i = 0\n",
    "    d = {}\n",
    "    while i < len(line):\n",
    "        d[line[i]] = line[i+1]\n",
    "        i += 2\n",
    "    return d"
   ]
  },
  {
   "cell_type": "code",
   "execution_count": null,
   "metadata": {},
   "outputs": [],
   "source": [
    "def some_storage(): \n",
    "    storage = {}\n",
    "    categories = make_categories_dict(input('Введите через пробел названия категорий: ').split())\n",
    "    print('''Вводите данные по одной строке в формате \"категория1 значение категория2 значение\". Когда данные закончатся, введите пустую строку.''')\n",
    "    s = input()\n",
    "    while s != '':\n",
    "        line = make_dict_from_line(s)\n",
    "        storage = add_new_item(storage, line, categories)\n",
    "        s = input()\n",
    "        \n",
    "    return categories, storage"
   ]
  },
  {
   "cell_type": "code",
   "execution_count": null,
   "metadata": {},
   "outputs": [],
   "source": [
    "some_storage()"
   ]
  },
  {
   "cell_type": "code",
   "execution_count": null,
   "metadata": {},
   "outputs": [],
   "source": []
  }
 ],
 "metadata": {
  "kernelspec": {
   "display_name": "Python 3",
   "language": "python",
   "name": "python3"
  },
  "language_info": {
   "codemirror_mode": {
    "name": "ipython",
    "version": 3
   },
   "file_extension": ".py",
   "mimetype": "text/x-python",
   "name": "python",
   "nbconvert_exporter": "python",
   "pygments_lexer": "ipython3",
   "version": "3.7.3"
  }
 },
 "nbformat": 4,
 "nbformat_minor": 2
}
