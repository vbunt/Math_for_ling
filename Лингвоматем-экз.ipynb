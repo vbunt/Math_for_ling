{
 "cells": [
  {
   "cell_type": "markdown",
   "metadata": {},
   "source": [
    "## Вариант 3, Лера Бунтякова"
   ]
  },
  {
   "cell_type": "markdown",
   "metadata": {},
   "source": [
    "Вариант 3: Пользователь задает стартовую страницу Википедии. Необходимо вытащить все термины, отстоящие по ссылкам от данной страницы не далее некоторого порогового расстояния."
   ]
  },
  {
   "cell_type": "markdown",
   "metadata": {},
   "source": [
    "Википедия сегодня работала против меня и не давала вынимать много ссылок, поэтому там в одном месте написано ограничение на количество ссылок на странице"
   ]
  },
  {
   "cell_type": "code",
   "execution_count": 1,
   "metadata": {},
   "outputs": [],
   "source": [
    "from bs4 import BeautifulSoup\n",
    "import requests\n",
    "import bs4\n",
    "import time"
   ]
  },
  {
   "cell_type": "code",
   "execution_count": 2,
   "metadata": {},
   "outputs": [],
   "source": [
    "import requests\n",
    "from requests.adapters import HTTPAdapter\n",
    "from requests.packages.urllib3.util.retry import Retry"
   ]
  },
  {
   "cell_type": "code",
   "execution_count": 3,
   "metadata": {},
   "outputs": [],
   "source": [
    "# мне надо было взять н случайных элементов словаря и я просто нашла эту функцию на стек оверфлоу\n",
    "from itertools import islice\n",
    "\n",
    "def take(n, iterable):\n",
    "    \"Return first n items of the iterable as a list\"\n",
    "    return list(islice(iterable, n))"
   ]
  },
  {
   "cell_type": "code",
   "execution_count": 4,
   "metadata": {},
   "outputs": [],
   "source": [
    "# штука с временем должна была решить проблему того, что википедия не дает мне ничего делать, но не решила\n",
    "def get_page(url):\n",
    "\n",
    "    session = requests.Session()\n",
    "    retry = Retry(connect=3, backoff_factor=5)\n",
    "    adapter = HTTPAdapter(max_retries=retry)\n",
    "    session.mount('http://', adapter)\n",
    "    session.mount('https://', adapter)\n",
    "    \n",
    "    r = session.get(url)\n",
    "    return r.text"
   ]
  },
  {
   "cell_type": "code",
   "execution_count": 5,
   "metadata": {},
   "outputs": [],
   "source": [
    "def find_links_on_page(page):\n",
    "    soup = BeautifulSoup(get_page(page))\n",
    "    soup = soup.find('div', {'id':'mw-content-text', 'lang':'ru', 'dir':'ltr', 'class':'mw-content-ltr'})\n",
    "    if not soup:\n",
    "        return\n",
    "    links = soup.find_all('a')\n",
    "    new_links = {}\n",
    "    for link in links:\n",
    "        if 'href' in link.attrs and 'title' in link.attrs:\n",
    "            next_link = link.attrs['href']\n",
    "            title = link.attrs['title']\n",
    "            new_links[title] = next_link\n",
    "    return new_links"
   ]
  },
  {
   "cell_type": "code",
   "execution_count": 6,
   "metadata": {},
   "outputs": [],
   "source": [
    "def go_to_next_page(where_from, new_links, i, max_i, term_list):\n",
    "    if not new_links:\n",
    "        return\n",
    "    keys_list = take(5, new_links.keys()) # чтобы хоть что-то работало, будем брать на каждом уровне по пять терминов\n",
    "    i_0 = i\n",
    "\n",
    "    for title in keys_list:\n",
    "        term_list.append(title)\n",
    "\n",
    "        i = i_0\n",
    "        \n",
    "        if i < max_i:\n",
    "            link = 'https://ru.wikipedia.org' + new_links[title]\n",
    "            next_links = find_links_on_page(link)\n",
    "            where_from = link\n",
    "            i += 1\n",
    "            go_to_next_page(where_from, next_links, i, max_i, term_list)\n",
    "            \n",
    "        else:\n",
    "            i = i_0\n",
    "            continue\n"
   ]
  },
  {
   "cell_type": "code",
   "execution_count": 7,
   "metadata": {},
   "outputs": [],
   "source": [
    "def main():\n",
    "\n",
    "    page = input()\n",
    "    max_i = 2 # максимальная глубина\n",
    "    i = 0\n",
    "\n",
    "    new_links = find_links_on_page(page)\n",
    "    term_list = []\n",
    "    i = 1\n",
    "    where_from = page\n",
    "    go_to_next_page(where_from, new_links, i, max_i, term_list)\n",
    "    \n",
    "    return term_list"
   ]
  },
  {
   "cell_type": "code",
   "execution_count": 8,
   "metadata": {},
   "outputs": [
    {
     "name": "stdout",
     "output_type": "stream",
     "text": [
      "https://ru.wikipedia.org/wiki/%D0%A1%D1%83%D0%BC%D0%B0%D0%B9%D0%B8%D0%BB%D1%8C\n"
     ]
    },
    {
     "data": {
      "text/plain": [
       "['Арабский язык',\n",
       " 'Алжир',\n",
       " 'Бахрейн',\n",
       " 'Египет',\n",
       " 'Западная Сахара',\n",
       " 'Иордания',\n",
       " 'Ирак',\n",
       " 'Арабский язык',\n",
       " 'Курдские языки',\n",
       " 'Флаг',\n",
       " 'Герб',\n",
       " 'Флаг Ирака',\n",
       " 'Мухафаза (Ирак)',\n",
       " 'Увеличить',\n",
       " 'Ирак',\n",
       " 'Мухафаза',\n",
       " 'Арабский язык',\n",
       " 'Провинция',\n",
       " 'Дахук (мухафаза)',\n",
       " 'Дахук',\n",
       " 'Административное деление Ирака',\n",
       " 'Ирак',\n",
       " 'Курдские языки',\n",
       " 'Арабский язык',\n",
       " 'Высота над уровнем моря',\n",
       " 'Увеличить',\n",
       " 'Википедия:Ссылки на источники',\n",
       " 'Редактировать раздел «История понятия»',\n",
       " 'Пюиссан, Луи (страница отсутствует)',\n",
       " 'en:Louis Puissant']"
      ]
     },
     "execution_count": 8,
     "metadata": {},
     "output_type": "execute_result"
    }
   ],
   "source": [
    "main()"
   ]
  },
  {
   "cell_type": "code",
   "execution_count": null,
   "metadata": {},
   "outputs": [],
   "source": []
  },
  {
   "cell_type": "code",
   "execution_count": null,
   "metadata": {},
   "outputs": [],
   "source": []
  }
 ],
 "metadata": {
  "kernelspec": {
   "display_name": "Python 3",
   "language": "python",
   "name": "python3"
  },
  "language_info": {
   "codemirror_mode": {
    "name": "ipython",
    "version": 3
   },
   "file_extension": ".py",
   "mimetype": "text/x-python",
   "name": "python",
   "nbconvert_exporter": "python",
   "pygments_lexer": "ipython3",
   "version": "3.7.3"
  }
 },
 "nbformat": 4,
 "nbformat_minor": 2
}
